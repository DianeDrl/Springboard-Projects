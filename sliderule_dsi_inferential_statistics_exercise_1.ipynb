{
 "cells": [
  {
   "cell_type": "markdown",
   "metadata": {},
   "source": [
    "# What is the True Normal Human Body Temperature? \n",
    "\n",
    "#### Background\n",
    "\n",
    "The mean normal body temperature was held to be 37$^{\\circ}$C or 98.6$^{\\circ}$F for more than 120 years since it was first conceptualized and reported by Carl Wunderlich in a famous 1868 book. But, is this value statistically correct?"
   ]
  },
  {
   "cell_type": "markdown",
   "metadata": {},
   "source": [
    "<h3>Exercises</h3>\n",
    "\n",
    "<p>In this exercise, you will analyze a dataset of human body temperatures and employ the concepts of hypothesis testing, confidence intervals, and statistical significance.</p>\n",
    "\n",
    "<p>Answer the following questions <b>in this notebook below and submit to your Github account</b>.</p> \n",
    "\n",
    "<ol>\n",
    "<li>  Is the distribution of body temperatures normal? \n",
    "    <ul>\n",
    "    <li> Although this is not a requirement for the Central Limit Theorem to hold (read the introduction on Wikipedia's page about the CLT carefully: https://en.wikipedia.org/wiki/Central_limit_theorem), it gives us some peace of mind that the population may also be normally distributed if we assume that this sample is representative of the population.\n",
    "    <li> Think about the way you're going to check for the normality of the distribution. Graphical methods are usually used first, but there are also other ways: https://en.wikipedia.org/wiki/Normality_test\n",
    "    </ul>\n",
    "<li>  Is the sample size large? Are the observations independent?\n",
    "    <ul>\n",
    "    <li> Remember that this is a condition for the Central Limit Theorem, and hence the statistical tests we are using, to apply.\n",
    "    </ul>\n",
    "<li>  Is the true population mean really 98.6 degrees F?\n",
    "    <ul>\n",
    "    <li> First, try a bootstrap hypothesis test.\n",
    "    <li> Now, let's try frequentist statistical testing. Would you use a one-sample or two-sample test? Why?\n",
    "    <li> In this situation, is it appropriate to use the $t$ or $z$ statistic? \n",
    "    <li> Now try using the other test. How is the result be different? Why?\n",
    "    </ul>\n",
    "<li>  Draw a small sample of size 10 from the data and repeat both frequentist tests. \n",
    "    <ul>\n",
    "    <li> Which one is the correct one to use? \n",
    "    <li> What do you notice? What does this tell you about the difference in application of the $t$ and $z$ statistic?\n",
    "    </ul>\n",
    "<li>  At what temperature should we consider someone's temperature to be \"abnormal\"?\n",
    "    <ul>\n",
    "    <li> As in the previous example, try calculating everything using the boostrap approach, as well as the frequentist approach.\n",
    "    <li> Start by computing the margin of error and confidence interval. When calculating the confidence interval, keep in mind that you should use the appropriate formula for one draw, and not N draws.\n",
    "    </ul>\n",
    "<li>  Is there a significant difference between males and females in normal temperature?\n",
    "    <ul>\n",
    "    <li> What testing approach did you use and why?\n",
    "    <li> Write a story with your conclusion in the context of the original problem.\n",
    "    </ul>\n",
    "</ol>\n",
    "\n",
    "You can include written notes in notebook cells using Markdown: \n",
    "   - In the control panel at the top, choose Cell > Cell Type > Markdown\n",
    "   - Markdown syntax: http://nestacms.com/docs/creating-content/markdown-cheat-sheet\n",
    "\n",
    "#### Resources\n",
    "\n",
    "+ Information and data sources: http://www.amstat.org/publications/jse/datasets/normtemp.txt, http://www.amstat.org/publications/jse/jse_data_archive.htm\n",
    "+ Markdown syntax: http://nestacms.com/docs/creating-content/markdown-cheat-sheet\n",
    "\n",
    "****"
   ]
  },
  {
   "cell_type": "code",
   "execution_count": 1,
   "metadata": {},
   "outputs": [],
   "source": [
    "import pandas as pd\n",
    "import numpy as np\n",
    "import matplotlib.pyplot as plt\n",
    "import seaborn as sns\n",
    "\n",
    "df = pd.read_csv('data/human_body_temperature.csv')"
   ]
  },
  {
   "cell_type": "code",
   "execution_count": 2,
   "metadata": {},
   "outputs": [
    {
     "data": {
      "text/html": [
       "<div>\n",
       "<style scoped>\n",
       "    .dataframe tbody tr th:only-of-type {\n",
       "        vertical-align: middle;\n",
       "    }\n",
       "\n",
       "    .dataframe tbody tr th {\n",
       "        vertical-align: top;\n",
       "    }\n",
       "\n",
       "    .dataframe thead th {\n",
       "        text-align: right;\n",
       "    }\n",
       "</style>\n",
       "<table border=\"1\" class=\"dataframe\">\n",
       "  <thead>\n",
       "    <tr style=\"text-align: right;\">\n",
       "      <th></th>\n",
       "      <th>temperature</th>\n",
       "      <th>gender</th>\n",
       "      <th>heart_rate</th>\n",
       "    </tr>\n",
       "  </thead>\n",
       "  <tbody>\n",
       "    <tr>\n",
       "      <th>0</th>\n",
       "      <td>99.3</td>\n",
       "      <td>F</td>\n",
       "      <td>68.0</td>\n",
       "    </tr>\n",
       "    <tr>\n",
       "      <th>1</th>\n",
       "      <td>98.4</td>\n",
       "      <td>F</td>\n",
       "      <td>81.0</td>\n",
       "    </tr>\n",
       "    <tr>\n",
       "      <th>2</th>\n",
       "      <td>97.8</td>\n",
       "      <td>M</td>\n",
       "      <td>73.0</td>\n",
       "    </tr>\n",
       "    <tr>\n",
       "      <th>3</th>\n",
       "      <td>99.2</td>\n",
       "      <td>F</td>\n",
       "      <td>66.0</td>\n",
       "    </tr>\n",
       "    <tr>\n",
       "      <th>4</th>\n",
       "      <td>98.0</td>\n",
       "      <td>F</td>\n",
       "      <td>73.0</td>\n",
       "    </tr>\n",
       "  </tbody>\n",
       "</table>\n",
       "</div>"
      ],
      "text/plain": [
       "   temperature gender  heart_rate\n",
       "0         99.3      F        68.0\n",
       "1         98.4      F        81.0\n",
       "2         97.8      M        73.0\n",
       "3         99.2      F        66.0\n",
       "4         98.0      F        73.0"
      ]
     },
     "execution_count": 2,
     "metadata": {},
     "output_type": "execute_result"
    }
   ],
   "source": [
    "df.head()"
   ]
  },
  {
   "cell_type": "markdown",
   "metadata": {},
   "source": [
    "### 1. Is the distribution of body temperatures normal? "
   ]
  },
  {
   "cell_type": "code",
   "execution_count": 3,
   "metadata": {},
   "outputs": [
    {
     "data": {
      "image/png": "[encoded data removed]",
      "text/plain": [
       "<Figure size 432x288 with 1 Axes>"
      ]
     },
     "metadata": {
      "needs_background": "light"
     },
     "output_type": "display_data"
    },
    {
     "data": {
      "image/png": "[encoded data removed]",
      "text/plain": [
       "<Figure size 432x288 with 1 Axes>"
      ]
     },
     "metadata": {},
     "output_type": "display_data"
    }
   ],
   "source": [
    "mean=np.mean(df.temperature)\n",
    "std=np.std(df.temperature)\n",
    "samples=np.random.normal(mean,std,size=10000)\n",
    "\n",
    "# Histogram plot\n",
    "sns.set\n",
    "_=plt.hist(df.temperature,bins=30)\n",
    "_=plt.axvline(mean,color='red')\n",
    "_=plt.xlabel('body temperature')\n",
    "_=plt.ylabel('number of people')\n",
    "plt.show()\n",
    "\n",
    "# Cumulative Distribution Fonction plot\n",
    "def ecdf(data):\n",
    "    \"\"\"Compute ECDF for a one-dimensional array of measurements\"\"\"\n",
    "    n=len(data)\n",
    "    x=np.sort(data)\n",
    "    y=np.arange(1,n+1)/n\n",
    "    return x,y\n",
    "\n",
    "x,y=ecdf(df.temperature)\n",
    "x_theor,y_theor=ecdf(samples)\n",
    "\n",
    "sns.set()\n",
    "_=plt.plot(x_theor,y_theor)\n",
    "_=plt.plot(x,y,marker='.',linestyle='none')\n",
    "plt.margins(0.02)\n",
    "_=plt.xlabel('body temperature')\n",
    "_=plt.ylabel('CDF')\n",
    "plt.show()"
   ]
  },
  {
   "cell_type": "markdown",
   "metadata": {},
   "source": [
    "According to the plots, the data seem normaly distributed and may be a representation of the general population. "
   ]
  },
  {
   "cell_type": "markdown",
   "metadata": {},
   "source": [
    "### 2. Is the sample size large? Are the observations independent? "
   ]
  },
  {
   "cell_type": "code",
   "execution_count": 4,
   "metadata": {},
   "outputs": [
    {
     "name": "stdout",
     "output_type": "stream",
     "text": [
      "sample size = 130\n"
     ]
    }
   ],
   "source": [
    "print('sample size =',len(df))"
   ]
  },
  {
   "cell_type": "markdown",
   "metadata": {},
   "source": [
    "The sample size is large and it is not specified in the statement if the observations are independent. If the size of the observations is equal or less to 10% than the size of the population, we can treat the observations as independent. And it is not specified either in the statement that it concerns a certain type of population. Thus, this sample represents a very large population and is well below 10% of the size of the population. We can consider the observations as independent. "
   ]
  },
  {
   "cell_type": "markdown",
   "metadata": {},
   "source": [
    "### 3. Is the true population mean really 98.6 degrees F? "
   ]
  },
  {
   "cell_type": "markdown",
   "metadata": {},
   "source": [
    "Null hypothesis: true population mean=98.6"
   ]
  },
  {
   "cell_type": "markdown",
   "metadata": {},
   "source": [
    "#### - Bootstrap hypothesis test"
   ]
  },
  {
   "cell_type": "code",
   "execution_count": 5,
   "metadata": {},
   "outputs": [
    {
     "name": "stdout",
     "output_type": "stream",
     "text": [
      "p_value = 0.0\n"
     ]
    }
   ],
   "source": [
    "# Simulating the situation in which the true mean temperature is 98.6\n",
    "temperature_shifted=df.temperature-np.mean(df.temperature)+98.6\n",
    "\n",
    "# Calculating the test statistic\n",
    "def diff (data):\n",
    "    return np.mean(data)-98.6\n",
    "diff_obs=diff(df.temperature) # -0.350769\n",
    "\n",
    "# bootstrap replicate\n",
    "def bootstrap_replicate_1d(data,func):\n",
    "    \"\"\"Generate bootstrap replicate of 1D data\"\"\"\n",
    "    bs_sample=np.random.choice(data,len(data))\n",
    "    return func(bs_sample)\n",
    "def draw_bs_reps(data,func,size):\n",
    "    \"\"\"Draw bootstrap replicates\"\"\"\n",
    "    bs_replicates=np.empty(size)\n",
    "    for i in range (size):\n",
    "        bs_replicates[i]=bootstrap_replicate_1d(data,func)\n",
    "    return bs_replicates\n",
    "\n",
    "# Computing the p_value\n",
    "bs_replicates=draw_bs_reps(temperature_shifted,diff,10000)\n",
    "p_value=np.sum(bs_replicates<=diff_obs)/10000\n",
    "print('p_value =',p_value)"
   ]
  },
  {
   "cell_type": "markdown",
   "metadata": {},
   "source": [
    "The very low p_value allows us to reject the null hypothesis.This is strong evidence that the true population mean is different than 98.6°."
   ]
  },
  {
   "cell_type": "markdown",
   "metadata": {},
   "source": [
    "### - Frequentist statistical testing "
   ]
  },
  {
   "cell_type": "markdown",
   "metadata": {},
   "source": [
    "We are going to use a one-sample test because we need to compare one set of data to a single number. \n",
    "In this situation, it is appropriate to use the t statistic because we don't know the standard deviation of the general population. Then, we are going to estimate the standard deviation of the sample, approximatively equal to the standard deviation of the population and we need to use a t statistic (to do not underestimate the standard deviation of the population)."
   ]
  },
  {
   "cell_type": "code",
   "execution_count": 17,
   "metadata": {
    "scrolled": true
   },
   "outputs": [
    {
     "name": "stdout",
     "output_type": "stream",
     "text": [
      "t* = -5.475925202078116\n",
      "degree of freedom = 129\n"
     ]
    }
   ],
   "source": [
    "# Parameter calculation\n",
    "population_mean=98.6\n",
    "sample_mean=np.mean(df.temperature)\n",
    "sample_std=np.std(df.temperature)\n",
    "sample_size=len(df)\n",
    "\n",
    "# T statistic calculation\n",
    "t=(sample_mean-population_mean)/(sample_std/np.sqrt(sample_size))\n",
    "\n",
    "print('t* =',t)\n",
    "print('degree of freedom =',sample_size-1)"
   ]
  },
  {
   "cell_type": "markdown",
   "metadata": {},
   "source": [
    "With these values of t and degree of freedom, a t table shows that the p_value is very close to zero. Again, we are going to reject the null hypothesis, the true population mean is different than 98.6°.\n",
    "Even if we had used a z statistic, with a hight value of z, we couln't be accurate and the p-value will be very close to zero too. It seems that for a high size sample, there is no difference between t and z statitiscs. "
   ]
  },
  {
   "cell_type": "markdown",
   "metadata": {},
   "source": [
    "### 4. Draw a small sample of size 10 from the data and repeat both frequentist tests. "
   ]
  },
  {
   "cell_type": "code",
   "execution_count": 29,
   "metadata": {},
   "outputs": [
    {
     "name": "stdout",
     "output_type": "stream",
     "text": [
      "mean of new sample = 98.22999999999999\n",
      "standard deviation of new sample = 0.6403905058634157\n",
      "t* = -1.827076953123763\n",
      "degree of freedom = 9\n"
     ]
    }
   ],
   "source": [
    "# Drawing a small sample of size 10 from the data\n",
    "new_sample=np.random.choice(df.temperature,size=10)\n",
    "\n",
    "# Parameter calculation\n",
    "new_sample_mean=np.mean(new_sample)\n",
    "new_sample_std=np.std(new_sample)\n",
    "new_sample_size=len(new_sample)\n",
    "print('mean of new sample =',new_sample_mean)\n",
    "print('standard deviation of new sample =',new_sample_std)\n",
    "\n",
    "# T statistic calculation\n",
    "new_t=(new_sample_mean-population_mean)/(new_sample_std/np.sqrt(new_sample_size))\n",
    "print('t* =',new_t)\n",
    "print('degree of freedom =',new_sample_size-1)"
   ]
  },
  {
   "cell_type": "markdown",
   "metadata": {},
   "source": [
    "With a value of t* or z* equal to -1.83, according to a t table, the p_value is equal to 0.05 and according to a z table, the p_value is equal to 0.034. The p_value is higher with a t statistic. The correct one is the t*, because we don't know the standard deviation of the population and we use the standard deviation of the sample as an estimation which underestimate the one of the population. The, for a similar marging of error, we are going to obtain a smaller p_value with a z statistic. For a small size sample, it seems important to use t statistic when we don't know the standard deviation of the population."
   ]
  },
  {
   "cell_type": "markdown",
   "metadata": {},
   "source": [
    "### 5. At what temperature should we consider someone's temperature to be \"abnormal\"? "
   ]
  },
  {
   "cell_type": "markdown",
   "metadata": {},
   "source": [
    "#### Bootstrap approach"
   ]
  },
  {
   "cell_type": "code",
   "execution_count": 38,
   "metadata": {
    "scrolled": true
   },
   "outputs": [
    {
     "name": "stderr",
     "output_type": "stream",
     "text": [
      "C:\\Users\\Diane\\Anaconda3\\lib\\site-packages\\matplotlib\\axes\\_axes.py:6521: MatplotlibDeprecationWarning: \n",
      "The 'normed' kwarg was deprecated in Matplotlib 2.1 and will be removed in 3.1. Use 'density' instead.\n",
      "  alternative=\"'density'\", removal=\"3.1\")\n"
     ]
    },
    {
     "data": {
      "image/png": "[encoded data removed]",
      "text/plain": [
       "<Figure size 432x288 with 1 Axes>"
      ]
     },
     "metadata": {},
     "output_type": "display_data"
    },
    {
     "name": "stdout",
     "output_type": "stream",
     "text": [
      "confidence interval = [98.12153846 98.37461538] with a 95% confidence level\n"
     ]
    }
   ],
   "source": [
    "# Bootstrap relicate\n",
    "bs_replicates=draw_bs_reps(df.temperature,np.mean,10000)\n",
    "\n",
    "# Plotting histogram\n",
    "sns.set\n",
    "_=plt.hist(bs_replicates,bins=30,normed=True)\n",
    "_=plt.xlabel('mean temperature (°)')\n",
    "_=plt.ylabel('PDF')\n",
    "plt.show()\n",
    "\n",
    "# Confidence interval\n",
    "conf_int=np.percentile(bs_replicates,[2.5,97.5])\n",
    "print('confidence interval =', conf_int,'with a 95% confidence level')"
   ]
  },
  {
   "cell_type": "markdown",
   "metadata": {},
   "source": [
    "#### Frequentist approach"
   ]
  },
  {
   "cell_type": "code",
   "execution_count": 39,
   "metadata": {},
   "outputs": [
    {
     "name": "stdout",
     "output_type": "stream",
     "text": [
      "Confidence interval = [ 98.14289678883675 98.3555647496248 ] with a 95% confidence level\n"
     ]
    }
   ],
   "source": [
    "sample_mean=np.mean(df.temperature)\n",
    "sample_std=np.std(df.temperature)\n",
    "sample_size=len(df)\n",
    "t=1.660 # According to the t table\n",
    "margin_of_error=t*sample_std/np.sqrt(sample_size)\n",
    "print('Confidence interval = [',sample_mean-margin_of_error,sample_mean+margin_of_error,'] with a 95% confidence level')"
   ]
  },
  {
   "cell_type": "markdown",
   "metadata": {},
   "source": [
    "### 6. Is there a significant difference between males and females in normal temperature?"
   ]
  },
  {
   "cell_type": "markdown",
   "metadata": {},
   "source": [
    "Null hypothesis = the mean of female temperature is equal to the mean of male temperature. --> The mean of the difference between female temperature and male temperature is equal to zero. Alternative hypothesis = The mean of the difference between female temperature and male temperature is different of zero."
   ]
  },
  {
   "cell_type": "code",
   "execution_count": 57,
   "metadata": {},
   "outputs": [
    {
     "name": "stdout",
     "output_type": "stream",
     "text": [
      "The mean difference is equal to = 0.289230769230727\n",
      "The critical value is equal to = 0.20720153060031501\n"
     ]
    }
   ],
   "source": [
    "# Parameter calulation\n",
    "temp_f=df.temperature[df['gender']=='F']\n",
    "temp_m=df.temperature[df['gender']=='M']\n",
    "mean_f=np.mean(temp_f)\n",
    "std_f=np.std(temp_f)\n",
    "mean_m=np.mean(temp_m)\n",
    "std_m=np.std(temp_m)\n",
    "size_f=len(temp_f)\n",
    "size_m=len(temp_m)\n",
    "\n",
    "# Marging of error calculation\n",
    "mean_diff=mean_f-mean_m\n",
    "std_diff=np.sqrt((std_f*std_f/size_f)+(std_m*std_m/size_m))\n",
    "z=1.65 # With alpha=0.05 significance level, z* = 1.65\n",
    "critical_value=z*std_diff\n",
    "\n",
    "print('The mean difference is equal to =',mean_diff)\n",
    "print('The critical value is equal to =',critical_value)"
   ]
  },
  {
   "cell_type": "markdown",
   "metadata": {},
   "source": [
    "mean_diff > critical_value We are below the 5%. We reject the null hypothesis in favor of the alternative hypothesis."
   ]
  },
  {
   "cell_type": "code",
   "execution_count": null,
   "metadata": {},
   "outputs": [],
   "source": []
  }
 ],
 "metadata": {
  "kernelspec": {
   "display_name": "Python 3",
   "language": "python",
   "name": "python3"
  },
  "language_info": {
   "codemirror_mode": {
    "name": "ipython",
    "version": 3
   },
   "file_extension": ".py",
   "mimetype": "text/x-python",
   "name": "python",
   "nbconvert_exporter": "python",
   "pygments_lexer": "ipython3",
   "version": "3.7.1"
  }
 },
 "nbformat": 4,
 "nbformat_minor": 1
}
