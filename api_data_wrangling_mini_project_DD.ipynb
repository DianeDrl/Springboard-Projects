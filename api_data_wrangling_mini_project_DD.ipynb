{
 "cells": [
  {
   "cell_type": "markdown",
   "metadata": {},
   "source": [
    "This exercise will require you to pull some data from the Qunadl API. Qaundl is currently the most widely used aggregator of financial market data."
   ]
  },
  {
   "cell_type": "markdown",
   "metadata": {},
   "source": [
    "As a first step, you will need to register a free account on the http://www.quandl.com website."
   ]
  },
  {
   "cell_type": "markdown",
   "metadata": {},
   "source": [
    "After you register, you will be provided with a unique API key, that you should store:"
   ]
  },
  {
   "cell_type": "code",
   "execution_count": null,
   "metadata": {
    "collapsed": true
   },
   "outputs": [],
   "source": [
    "# Store the API key as a string - according to PEP8, constants are always named in all upper case\n",
    "API_KEY = ''"
   ]
  },
  {
   "cell_type": "markdown",
   "metadata": {},
   "source": [
    "Qaundl has a large number of data sources, but, unfortunately, most of them require a Premium subscription. Still, there are also a good number of free datasets."
   ]
  },
  {
   "cell_type": "markdown",
   "metadata": {},
   "source": [
    "For this mini project, we will focus on equities data from the Frankfurt Stock Exhange (FSE), which is available for free. We'll try and analyze the stock prices of a company called Carl Zeiss Meditec, which manufactures tools for eye examinations, as well as medical lasers for laser eye surgery: https://www.zeiss.com/meditec/int/home.html. The company is listed under the stock ticker AFX_X."
   ]
  },
  {
   "cell_type": "markdown",
   "metadata": {},
   "source": [
    "You can find the detailed Quandl API instructions here: https://docs.quandl.com/docs/time-series"
   ]
  },
  {
   "cell_type": "markdown",
   "metadata": {},
   "source": [
    "While there is a dedicated Python package for connecting to the Quandl API, we would prefer that you use the *requests* package, which can be easily downloaded using *pip* or *conda*. You can find the documentation for the package here: http://docs.python-requests.org/en/master/ "
   ]
  },
  {
   "cell_type": "markdown",
   "metadata": {},
   "source": [
    "Finally, apart from the *requests* package, you are encouraged to not use any third party Python packages, such as *pandas*, and instead focus on what's available in the Python Standard Library (the *collections* module might come in handy: https://pymotw.com/3/collections/ ).\n",
    "Also, since you won't have access to DataFrames, you are encouraged to us Python's native data structures - preferably dictionaries, though some questions can also be answered using lists.\n",
    "You can read more on these data structures here: https://docs.python.org/3/tutorial/datastructures.html"
   ]
  },
  {
   "cell_type": "markdown",
   "metadata": {},
   "source": [
    "Keep in mind that the JSON responses you will be getting from the API map almost one-to-one to Python's dictionaries. Unfortunately, they can be very nested, so make sure you read up on indexing dictionaries in the documentation provided above."
   ]
  },
  {
   "cell_type": "code",
   "execution_count": 1,
   "metadata": {},
   "outputs": [],
   "source": [
    "# First, import the relevant modules\n",
    "import requests"
   ]
  },
  {
   "cell_type": "code",
   "execution_count": 51,
   "metadata": {},
   "outputs": [
    {
     "name": "stdout",
     "output_type": "stream",
     "text": [
      "['2019-05-06', None, 89.05, 84.9, 89.05, None, 160083.0, 14049181.0, None, None, None]\n"
     ]
    }
   ],
   "source": [
    "# Now, call the Quandl API and pull out a small sample of the data (only one day) to get a glimpse\n",
    "# into the JSON structure that will be returned\n",
    "r=requests.get('https://www.quandl.com/api/v3/datasets/FSE/AFX_X.json?api_key=API_KEY')\n",
    "print(r.json()['dataset']['data'][0])"
   ]
  },
  {
   "cell_type": "code",
   "execution_count": 48,
   "metadata": {},
   "outputs": [
    {
     "name": "stdout",
     "output_type": "stream",
     "text": [
      "{'Date': 'Mon, 06 May 2019 23:49:41 GMT', 'Content-Type': 'application/json; charset=utf-8', 'Transfer-Encoding': 'chunked', 'Connection': 'keep-alive', 'Set-Cookie': '__cfduid=dc4a3a9fe2f949507917d4d854a431c801557186581; expires=Tue, 05-May-20 23:49:41 GMT; path=/; domain=.quandl.com; HttpOnly', 'Allow': 'GET, HEAD, POST, PUT, DELETE, OPTIONS, PATCH', 'Cache-Control': 'max-age=0, private, must-revalidate', 'Content-Encoding': 'gzip', 'ETag': 'W/\"7bb1164fe9947a8a791efb10e1d5cdfd\"', 'Vary': 'Origin', 'X-Content-Type-Options': 'nosniff', 'X-Frame-Options': 'SAMEORIGIN', 'X-Rack-CORS': 'miss; no-origin', 'X-RateLimit-Limit': '50', 'X-RateLimit-Remaining': '33', 'X-Request-Id': '95289b8d-5869-477c-8e4a-3fda4482039e', 'X-Runtime': '0.806876', 'X-XSS-Protection': '1; mode=block', 'Expect-CT': 'max-age=604800, report-uri=\"https://report-uri.cloudflare.com/cdn-cgi/beacon/expect-ct\"', 'Server': 'cloudflare', 'CF-RAY': '4d2eda23499fc5c8-EWR'}\n",
      "{\"dataset\":{\"id\":10095370,\"dataset_code\":\"AFX_X\",\"database_code\":\"FSE\",\"name\":\"Carl Zeiss Meditec (AFX_X)\",\"description\":\"Stock Prices for Carl Zeiss Meditec (AFX) from the Frankfurt Stock Exchange.\\u003cbr\\u003e\\u003cbr\\u003eTrading System: Xetra\\u003cbr\\u003e\\u003cbr\\u003eISIN: DE0005313704\",\"refreshed_at\":\"2019-05-06T22:31:14.486Z\",\"newest_available_date\":\"2019-05-06\",\"oldest_available_date\":\"2000-06-07\",\"column_names\":[\"Date\",\"Open\",\"High\",\"Low\",\"Close\",\"Change\",\"Traded Volume\",\"Turnover\",\"Last Price of the Day\",\"Daily Traded Units\",\"Daily Turnover\"],\"frequency\":\"daily\",\"type\":\"Time Series\",\"premium\":false,\"limit\":null,\"transform\":null,\"column_index\":null,\"start_date\":\"2000-06-07\",\"end_date\":\"2019-05-06\",\"data\":[[\"2019-05-06\",null,89.05,84.9,89.05,null,160083.0,14049181.0,null,null,null],[\"2019-05-03\",null,87.5,86.65,87.2,null,138284.0,12036856.0,null,null,null],[\"2019-05-02\",null,87.7,85.45,86.55,null,216631.0,18702265.0,null,null,null],[\"2019-04-30\",null,88.85,86.7,87.55,null,181\n"
     ]
    }
   ],
   "source": [
    "# Inspect the JSON structure of the object you created, and take note of how nested it is,\n",
    "# as well as the overall structure\n",
    "print(r.headers)\n",
    "print(r.text[0:1000])"
   ]
  },
  {
   "cell_type": "markdown",
   "metadata": {},
   "source": [
    "These are your tasks for this mini project:\n",
    "\n",
    "1. Collect data from the Franfurt Stock Exchange, for the ticker AFX_X, for the whole year 2017 (keep in mind that the date format is YYYY-MM-DD).\n",
    "2. Convert the returned JSON object into a Python dictionary.\n",
    "3. Calculate what the highest and lowest opening prices were for the stock in this period.\n",
    "4. What was the largest change in any one day (based on High and Low price)?\n",
    "5. What was the largest change between any two days (based on Closing Price)?\n",
    "6. What was the average daily trading volume during this year?\n",
    "7. (Optional) What was the median trading volume during this year. (Note: you may need to implement your own function for calculating the median.)"
   ]
  },
  {
   "cell_type": "code",
   "execution_count": 157,
   "metadata": {},
   "outputs": [],
   "source": [
    "# 1. Collect data from the Franfurt Stock Exchange, for the ticker AFX_X, \n",
    "# for the whole year 2017 (keep in mind that the date format is YYYY-MM-DD).\n",
    "r_2017=requests.get('https://www.quandl.com/api/v3/datasets/FSE/AFX_X.json?start_date=2017-01-01&end_date=2017-12-31&api_key=API_KEY')"
   ]
  },
  {
   "cell_type": "code",
   "execution_count": 156,
   "metadata": {},
   "outputs": [],
   "source": [
    "# 2. Convert the returned JSON object into a Python dictionary.\n",
    "d_2017=r_2017.json()['dataset']\n",
    "\n",
    "dict_2017={}\n",
    "for j in range(0,(len(d_2017['column_names']))):\n",
    "    d=[]\n",
    "    for i in d_2017['data']:    \n",
    "        d.append(i[j]) \n",
    "    dict_2017[d_2017['column_names'][j]]=d"
   ]
  },
  {
   "cell_type": "code",
   "execution_count": 195,
   "metadata": {},
   "outputs": [
    {
     "name": "stdout",
     "output_type": "stream",
     "text": [
      "The highest opening prices for the stock in 2017 is: 53.11\n",
      "The lowest opening prices for the stock in 2017 is: 34.0\n"
     ]
    }
   ],
   "source": [
    "# 3. Calculate what the highest and lowest opening prices were for the stock in this period.\n",
    "open_2017=dict_2017['Open']\n",
    "open_2017 = [o for o in open_2017 if o is not None]\n",
    "print('The highest opening prices for the stock in 2017 is:',max(open_2017))\n",
    "print('The lowest opening prices for the stock in 2017 is:',min(open_2017))"
   ]
  },
  {
   "cell_type": "code",
   "execution_count": 196,
   "metadata": {},
   "outputs": [
    {
     "name": "stdout",
     "output_type": "stream",
     "text": [
      "The largest change in any one day in 2017 is: 2.8100000000000023\n"
     ]
    }
   ],
   "source": [
    "# 4. What was the largest change in any one day (based on High and Low price)?\n",
    "change=0\n",
    "for i in range(0,len(dict_2017['High'])):\n",
    "    c=dict_2017['High'][i]-dict_2017['Low'][i]\n",
    "    if c>change:\n",
    "        change=c\n",
    "print('The largest change in any one day in 2017 is:',change)"
   ]
  },
  {
   "cell_type": "code",
   "execution_count": 197,
   "metadata": {},
   "outputs": [
    {
     "name": "stdout",
     "output_type": "stream",
     "text": [
      "The largest change between any two days in 2017 is: 2.559999999999995\n"
     ]
    }
   ],
   "source": [
    "# 5. What was the largest change between any two days (based on Closing Price)?\n",
    "Change=0\n",
    "for I in range(1,len(dict_2017['Close'])):\n",
    "    C=abs(dict_2017['Close'][I]-dict_2017['Close'][I-1])\n",
    "    if C>Change:\n",
    "        Change=C\n",
    "print('The largest change between any two days in 2017 is:',Change)"
   ]
  },
  {
   "cell_type": "code",
   "execution_count": 203,
   "metadata": {},
   "outputs": [
    {
     "name": "stdout",
     "output_type": "stream",
     "text": [
      "The average daily trading volume during 2017 is: 89124.33725490196\n"
     ]
    }
   ],
   "source": [
    "# 6. What was the average daily trading volume during this year?\n",
    "Average=sum(dict_2017['Traded Volume'])/len(dict_2017['Traded Volume'])\n",
    "print('The average daily trading volume during 2017 is:',Average)"
   ]
  },
  {
   "cell_type": "code",
   "execution_count": 219,
   "metadata": {},
   "outputs": [
    {
     "name": "stdout",
     "output_type": "stream",
     "text": [
      "The median trading volume during 2017 is: 76286.0\n"
     ]
    }
   ],
   "source": [
    "# 7. (Optional) What was the median trading volume during this year. \n",
    "# (Note: you may need to implement your own function for calculating the median.)\n",
    "Len_Vol=len (dict_2017['Traded Volume'])\n",
    "if Len_Vol%2 !=0:\n",
    "    median=sorted(dict_2017['Traded Volume'])[int(Len_Vol/2-0.5)]\n",
    "else:\n",
    "    median=(sorted(dict_2017['Traded Volume'])[int(Len_Vol/2-1)]+sorted(dict_2017['Traded Volume'])[int(Len_Vol/2+1)])/2\n",
    "print('The median trading volume during 2017 is:',median)"
   ]
  }
 ],
 "metadata": {
  "kernelspec": {
   "display_name": "Python 3",
   "language": "python",
   "name": "python3"
  },
  "language_info": {
   "codemirror_mode": {
    "name": "ipython",
    "version": 3
   },
   "file_extension": ".py",
   "mimetype": "text/x-python",
   "name": "python",
   "nbconvert_exporter": "python",
   "pygments_lexer": "ipython3",
   "version": "3.7.1"
  }
 },
 "nbformat": 4,
 "nbformat_minor": 2
}
